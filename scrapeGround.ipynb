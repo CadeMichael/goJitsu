{
 "cells": [
  {
   "cell_type": "code",
   "execution_count": 2,
   "id": "f30fa20d",
   "metadata": {},
   "outputs": [],
   "source": [
    "import requests \n",
    "from bs4 import BeautifulSoup as bs "
   ]
  },
  {
   "cell_type": "code",
   "execution_count": 16,
   "id": "2134c4ae",
   "metadata": {},
   "outputs": [],
   "source": [
    "\"\"\"Get a list of competitors and make a csv with their comp. data\"\"\"\n",
    "\n",
    "# get the page that has all fighters \n",
    "compPage = requests.get(\"https://www.bjjheroes.com/a-z-bjj-fighters-list\")\n",
    "# get the data from the page \n",
    "compSoup = bs(compPage.content, \"html.parser\")"
   ]
  },
  {
   "cell_type": "code",
   "execution_count": null,
   "id": "ee87f0cf",
   "metadata": {},
   "outputs": [],
   "source": []
  }
 ],
 "metadata": {
  "kernelspec": {
   "display_name": "Python 3 (ipykernel)",
   "language": "python",
   "name": "python3"
  },
  "language_info": {
   "codemirror_mode": {
    "name": "ipython",
    "version": 3
   },
   "file_extension": ".py",
   "mimetype": "text/x-python",
   "name": "python",
   "nbconvert_exporter": "python",
   "pygments_lexer": "ipython3",
   "version": "3.9.5"
  }
 },
 "nbformat": 4,
 "nbformat_minor": 5
}
